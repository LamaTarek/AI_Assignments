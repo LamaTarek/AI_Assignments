{
 "cells": [
  {
   "cell_type": "code",
   "execution_count": 181,
   "id": "f3379eb2",
   "metadata": {},
   "outputs": [],
   "source": [
    "#import Libs\n",
    "import numpy as np\n",
    "import pandas as pd\n",
    "import matplotlib.pyplot as plt\n",
    "from sklearn.model_selection import train_test_split\n",
    "from sklearn.model_selection import KFold\n",
    "from sklearn.model_selection import LeaveOneOut"
   ]
  },
  {
   "cell_type": "code",
   "execution_count": 220,
   "id": "39df8514",
   "metadata": {},
   "outputs": [],
   "source": [
    "#get DataSet\n",
    "fruits = pd.read_csv(\"fruit_data_with_colours.csv\")"
   ]
  },
  {
   "cell_type": "code",
   "execution_count": 221,
   "id": "973abefd",
   "metadata": {},
   "outputs": [
    {
     "data": {
      "text/html": [
       "<div>\n",
       "<style scoped>\n",
       "    .dataframe tbody tr th:only-of-type {\n",
       "        vertical-align: middle;\n",
       "    }\n",
       "\n",
       "    .dataframe tbody tr th {\n",
       "        vertical-align: top;\n",
       "    }\n",
       "\n",
       "    .dataframe thead th {\n",
       "        text-align: right;\n",
       "    }\n",
       "</style>\n",
       "<table border=\"1\" class=\"dataframe\">\n",
       "  <thead>\n",
       "    <tr style=\"text-align: right;\">\n",
       "      <th></th>\n",
       "      <th>fruit_label</th>\n",
       "      <th>fruit_name</th>\n",
       "      <th>fruit_subtype</th>\n",
       "      <th>mass</th>\n",
       "      <th>width</th>\n",
       "      <th>height</th>\n",
       "      <th>color_score</th>\n",
       "    </tr>\n",
       "  </thead>\n",
       "  <tbody>\n",
       "    <tr>\n",
       "      <th>0</th>\n",
       "      <td>1</td>\n",
       "      <td>apple</td>\n",
       "      <td>granny_smith</td>\n",
       "      <td>192</td>\n",
       "      <td>8.4</td>\n",
       "      <td>7.3</td>\n",
       "      <td>0.55</td>\n",
       "    </tr>\n",
       "    <tr>\n",
       "      <th>1</th>\n",
       "      <td>1</td>\n",
       "      <td>apple</td>\n",
       "      <td>granny_smith</td>\n",
       "      <td>180</td>\n",
       "      <td>8.0</td>\n",
       "      <td>6.8</td>\n",
       "      <td>0.59</td>\n",
       "    </tr>\n",
       "    <tr>\n",
       "      <th>2</th>\n",
       "      <td>1</td>\n",
       "      <td>apple</td>\n",
       "      <td>granny_smith</td>\n",
       "      <td>176</td>\n",
       "      <td>7.4</td>\n",
       "      <td>7.2</td>\n",
       "      <td>0.60</td>\n",
       "    </tr>\n",
       "    <tr>\n",
       "      <th>3</th>\n",
       "      <td>2</td>\n",
       "      <td>mandarin</td>\n",
       "      <td>mandarin</td>\n",
       "      <td>86</td>\n",
       "      <td>6.2</td>\n",
       "      <td>4.7</td>\n",
       "      <td>0.80</td>\n",
       "    </tr>\n",
       "    <tr>\n",
       "      <th>4</th>\n",
       "      <td>2</td>\n",
       "      <td>mandarin</td>\n",
       "      <td>mandarin</td>\n",
       "      <td>84</td>\n",
       "      <td>6.0</td>\n",
       "      <td>4.6</td>\n",
       "      <td>0.79</td>\n",
       "    </tr>\n",
       "  </tbody>\n",
       "</table>\n",
       "</div>"
      ],
      "text/plain": [
       "   fruit_label fruit_name fruit_subtype  mass  width  height  color_score\n",
       "0            1      apple  granny_smith   192    8.4     7.3         0.55\n",
       "1            1      apple  granny_smith   180    8.0     6.8         0.59\n",
       "2            1      apple  granny_smith   176    7.4     7.2         0.60\n",
       "3            2   mandarin      mandarin    86    6.2     4.7         0.80\n",
       "4            2   mandarin      mandarin    84    6.0     4.6         0.79"
      ]
     },
     "execution_count": 221,
     "metadata": {},
     "output_type": "execute_result"
    }
   ],
   "source": [
    "fruits.head(5)"
   ]
  },
  {
   "cell_type": "code",
   "execution_count": 222,
   "id": "85a6c1e3",
   "metadata": {},
   "outputs": [
    {
     "name": "stdout",
     "output_type": "stream",
     "text": [
      "5.8\n"
     ]
    }
   ],
   "source": [
    "print(min(fruits['width']))\n",
    "Fruit_name =  dict(zip(fruits.fruit_label.unique(),fruits.fruit_name.unique() ))"
   ]
  },
  {
   "cell_type": "code",
   "execution_count": 223,
   "id": "2d4563bd",
   "metadata": {},
   "outputs": [
    {
     "name": "stdout",
     "output_type": "stream",
     "text": [
      "<class 'dict'>\n",
      "{1: 'apple', 2: 'mandarin', 3: 'orange', 4: 'lemon'}\n"
     ]
    }
   ],
   "source": [
    "print(type(Fruit_name))\n",
    "print(Fruit_name)"
   ]
  },
  {
   "cell_type": "code",
   "execution_count": 224,
   "id": "b8fa9a0d",
   "metadata": {},
   "outputs": [],
   "source": [
    "#get independent_variable (Features)\n",
    "x = fruits[['mass','width','height']]"
   ]
  },
  {
   "cell_type": "code",
   "execution_count": 225,
   "id": "68533782",
   "metadata": {},
   "outputs": [
    {
     "data": {
      "text/html": [
       "<div>\n",
       "<style scoped>\n",
       "    .dataframe tbody tr th:only-of-type {\n",
       "        vertical-align: middle;\n",
       "    }\n",
       "\n",
       "    .dataframe tbody tr th {\n",
       "        vertical-align: top;\n",
       "    }\n",
       "\n",
       "    .dataframe thead th {\n",
       "        text-align: right;\n",
       "    }\n",
       "</style>\n",
       "<table border=\"1\" class=\"dataframe\">\n",
       "  <thead>\n",
       "    <tr style=\"text-align: right;\">\n",
       "      <th></th>\n",
       "      <th>mass</th>\n",
       "      <th>width</th>\n",
       "      <th>height</th>\n",
       "    </tr>\n",
       "  </thead>\n",
       "  <tbody>\n",
       "    <tr>\n",
       "      <th>0</th>\n",
       "      <td>192</td>\n",
       "      <td>8.4</td>\n",
       "      <td>7.3</td>\n",
       "    </tr>\n",
       "    <tr>\n",
       "      <th>1</th>\n",
       "      <td>180</td>\n",
       "      <td>8.0</td>\n",
       "      <td>6.8</td>\n",
       "    </tr>\n",
       "    <tr>\n",
       "      <th>2</th>\n",
       "      <td>176</td>\n",
       "      <td>7.4</td>\n",
       "      <td>7.2</td>\n",
       "    </tr>\n",
       "    <tr>\n",
       "      <th>3</th>\n",
       "      <td>86</td>\n",
       "      <td>6.2</td>\n",
       "      <td>4.7</td>\n",
       "    </tr>\n",
       "    <tr>\n",
       "      <th>4</th>\n",
       "      <td>84</td>\n",
       "      <td>6.0</td>\n",
       "      <td>4.6</td>\n",
       "    </tr>\n",
       "  </tbody>\n",
       "</table>\n",
       "</div>"
      ],
      "text/plain": [
       "   mass  width  height\n",
       "0   192    8.4     7.3\n",
       "1   180    8.0     6.8\n",
       "2   176    7.4     7.2\n",
       "3    86    6.2     4.7\n",
       "4    84    6.0     4.6"
      ]
     },
     "execution_count": 225,
     "metadata": {},
     "output_type": "execute_result"
    }
   ],
   "source": [
    "x.head(5)"
   ]
  },
  {
   "cell_type": "code",
   "execution_count": 126,
   "id": "602d826e",
   "metadata": {},
   "outputs": [
    {
     "data": {
      "text/plain": [
       "0    1\n",
       "1    1\n",
       "2    1\n",
       "3    2\n",
       "4    2\n",
       "Name: fruit_label, dtype: int64"
      ]
     },
     "execution_count": 126,
     "metadata": {},
     "output_type": "execute_result"
    }
   ],
   "source": [
    "#get dependent_variable (Response)\n",
    "y = fruits['fruit_label']\n",
    "y.head()"
   ]
  },
  {
   "cell_type": "code",
   "execution_count": 127,
   "id": "9619a3ac",
   "metadata": {},
   "outputs": [],
   "source": [
    "#Split data \n",
    "x_train,x_test,y_train,y_test = train_test_split(x,y,random_state=42)"
   ]
  },
  {
   "cell_type": "markdown",
   "id": "2c2b6ffc",
   "metadata": {},
   "source": [
    "# KFold: before pre-processing"
   ]
  },
  {
   "cell_type": "code",
   "execution_count": 128,
   "id": "b47d8757",
   "metadata": {},
   "outputs": [],
   "source": [
    "def get_score(x_train,x_test,y_train,y_test):\n",
    "    knn = KNeighborsClassifier(n_neighbors=3)\n",
    "    #train_data\n",
    "    knn.fit(x_train,y_train)\n",
    "    #test_data\n",
    "    return knn.score(x_test,y_test)"
   ]
  },
  {
   "cell_type": "code",
   "execution_count": 129,
   "id": "81e1c1bf",
   "metadata": {},
   "outputs": [
    {
     "name": "stdout",
     "output_type": "stream",
     "text": [
      "[0.8333333333333334, 0.5, 0.5833333333333334, 0.8333333333333334, 0.6363636363636364]\n",
      "[0.5, 0.5, 0.6, 0.8, 0.8, 1.0]\n",
      "[0.7777777777777778, 0.4444444444444444, 0.6666666666666666, 0.75, 0.75, 0.625, 0.75]\n",
      "[0.625, 0.5, 0.625, 0.8571428571428571, 0.8571428571428571, 0.8571428571428571, 0.2857142857142857, 0.8571428571428571]\n",
      "[0.2857142857142857, 1.0, 0.5714285714285714, 0.42857142857142855, 0.7142857142857143, 1.0, 0.6666666666666666, 0.5, 0.6666666666666666]\n",
      "K with max score:  6\n",
      "max score:  0.75\n"
     ]
    }
   ],
   "source": [
    "mean_scores={}\n",
    "for k in range(5,10):\n",
    "    kf = KFold(n_splits=k,shuffle=True)\n",
    "    scores=[]\n",
    "    for train_index, test_index in kf.split(x):\n",
    "        x_train,x_test,y_train,y_test=x.iloc[train_index],x.iloc[test_index]\\\n",
    "        ,y.iloc[train_index],y.iloc[test_index]\n",
    "        scores.append(get_score(x_train,x_test,y_train,y_test))\n",
    "    print(scores)\n",
    "    \n",
    "    mean_scores[k]=(np.min(scores)+np.max(scores))/2\n",
    "max_k_score = max(mean_scores,key=mean_scores.get)\n",
    "print('K with max score: ',max_k_score)\n",
    "print('max score: ',mean_scores[max_k_score])"
   ]
  },
  {
   "cell_type": "markdown",
   "id": "d9eda290",
   "metadata": {},
   "source": [
    "# pre-processing data"
   ]
  },
  {
   "cell_type": "code",
   "execution_count": 226,
   "id": "e568bc2e",
   "metadata": {},
   "outputs": [
    {
     "data": {
      "text/plain": [
       "['mass', 'width', 'height']"
      ]
     },
     "execution_count": 226,
     "metadata": {},
     "output_type": "execute_result"
    }
   ],
   "source": [
    "cols = list(x.columns)\n",
    "cols"
   ]
  },
  {
   "cell_type": "code",
   "execution_count": 227,
   "id": "2385a42c",
   "metadata": {},
   "outputs": [
    {
     "data": {
      "text/plain": [
       "mass      163.118644\n",
       "width       7.105085\n",
       "height      7.693220\n",
       "dtype: float64"
      ]
     },
     "execution_count": 227,
     "metadata": {},
     "output_type": "execute_result"
    }
   ],
   "source": [
    "#calculate the mean\n",
    "mean = x.mean(axis=0)\n",
    "mean"
   ]
  },
  {
   "cell_type": "code",
   "execution_count": 228,
   "id": "7f3ffb76",
   "metadata": {},
   "outputs": [
    {
     "data": {
      "text/plain": [
       "mass      2975.765585\n",
       "width        0.656076\n",
       "height       1.820971\n",
       "dtype: float64"
      ]
     },
     "execution_count": 228,
     "metadata": {},
     "output_type": "execute_result"
    }
   ],
   "source": [
    "# calculate the variance\n",
    "var_x = pd.DataFrame(columns=cols)\n",
    "for col in cols:\n",
    "    var_x[col]=(x[col]-mean[col])**2\n",
    "var_x=var_x.mean()\n",
    "var_x"
   ]
  },
  {
   "cell_type": "code",
   "execution_count": 229,
   "id": "1b46bb58",
   "metadata": {},
   "outputs": [
    {
     "data": {
      "text/plain": [
       "mass      54.550578\n",
       "width      0.809985\n",
       "height     1.349434\n",
       "dtype: float64"
      ]
     },
     "execution_count": 229,
     "metadata": {},
     "output_type": "execute_result"
    }
   ],
   "source": [
    "# calculate std\n",
    "std = np.sqrt(var_x)\n",
    "std"
   ]
  },
  {
   "cell_type": "code",
   "execution_count": 230,
   "id": "6fafbb97",
   "metadata": {},
   "outputs": [
    {
     "data": {
      "text/html": [
       "<div>\n",
       "<style scoped>\n",
       "    .dataframe tbody tr th:only-of-type {\n",
       "        vertical-align: middle;\n",
       "    }\n",
       "\n",
       "    .dataframe tbody tr th {\n",
       "        vertical-align: top;\n",
       "    }\n",
       "\n",
       "    .dataframe thead th {\n",
       "        text-align: right;\n",
       "    }\n",
       "</style>\n",
       "<table border=\"1\" class=\"dataframe\">\n",
       "  <thead>\n",
       "    <tr style=\"text-align: right;\">\n",
       "      <th></th>\n",
       "      <th>mass</th>\n",
       "      <th>width</th>\n",
       "      <th>height</th>\n",
       "    </tr>\n",
       "  </thead>\n",
       "  <tbody>\n",
       "    <tr>\n",
       "      <th>0</th>\n",
       "      <td>0.529442</td>\n",
       "      <td>1.598690</td>\n",
       "      <td>-0.291397</td>\n",
       "    </tr>\n",
       "    <tr>\n",
       "      <th>1</th>\n",
       "      <td>0.309462</td>\n",
       "      <td>1.104854</td>\n",
       "      <td>-0.661922</td>\n",
       "    </tr>\n",
       "    <tr>\n",
       "      <th>2</th>\n",
       "      <td>0.236136</td>\n",
       "      <td>0.364100</td>\n",
       "      <td>-0.365502</td>\n",
       "    </tr>\n",
       "    <tr>\n",
       "      <th>3</th>\n",
       "      <td>-1.413709</td>\n",
       "      <td>-1.117409</td>\n",
       "      <td>-2.218131</td>\n",
       "    </tr>\n",
       "    <tr>\n",
       "      <th>4</th>\n",
       "      <td>-1.450372</td>\n",
       "      <td>-1.364327</td>\n",
       "      <td>-2.292236</td>\n",
       "    </tr>\n",
       "  </tbody>\n",
       "</table>\n",
       "</div>"
      ],
      "text/plain": [
       "       mass     width    height\n",
       "0  0.529442  1.598690 -0.291397\n",
       "1  0.309462  1.104854 -0.661922\n",
       "2  0.236136  0.364100 -0.365502\n",
       "3 -1.413709 -1.117409 -2.218131\n",
       "4 -1.450372 -1.364327 -2.292236"
      ]
     },
     "execution_count": 230,
     "metadata": {},
     "output_type": "execute_result"
    }
   ],
   "source": [
    "new_x = pd.DataFrame(columns=cols)\n",
    "for col in cols:\n",
    "    new_x[col]=(x[col]-mean[col])/std[col]\n",
    "new_x.head()"
   ]
  },
  {
   "cell_type": "markdown",
   "id": "3882c1bb",
   "metadata": {},
   "source": [
    "# Kfold: after pre-processing"
   ]
  },
  {
   "cell_type": "code",
   "execution_count": 248,
   "id": "0123f909",
   "metadata": {},
   "outputs": [
    {
     "name": "stdout",
     "output_type": "stream",
     "text": [
      "[0.9166666666666666, 0.75, 0.9166666666666666, 0.8333333333333334, 0.9090909090909091]\n",
      "[0.8, 1.0, 0.9, 0.8, 0.8, 0.8888888888888888]\n",
      "[0.7777777777777778, 1.0, 1.0, 0.75, 0.875, 0.75, 0.75]\n",
      "[0.875, 0.875, 0.75, 0.5714285714285714, 0.5714285714285714, 1.0, 0.7142857142857143, 0.8571428571428571]\n",
      "[1.0, 0.7142857142857143, 0.8571428571428571, 0.8571428571428571, 0.8571428571428571, 1.0, 0.8333333333333334, 0.8333333333333334, 0.6666666666666666]\n",
      "K with max score:  6\n",
      "max score:  0.9\n"
     ]
    }
   ],
   "source": [
    "mean_scores={}\n",
    "for k in range(5,10):\n",
    "    kf = KFold(n_splits=k,shuffle=True)\n",
    "    scores=[]\n",
    "    for train_index, test_index in kf.split(new_x):\n",
    "        x_train,x_test,y_train,y_test=new_x.iloc[train_index],new_x.iloc[test_index]\\\n",
    "        ,y.iloc[train_index],y.iloc[test_index]\n",
    "        scores.append(get_score(x_train,x_test,y_train,y_test))\n",
    "    print(scores)\n",
    "    \n",
    "    mean_scores[k]=(np.min(scores)+np.max(scores))/2\n",
    "max_k_score = max(mean_scores,key=mean_scores.get)\n",
    "print('K with max score: ',max_k_score)\n",
    "print('max score: ',mean_scores[max_k_score])"
   ]
  }
 ],
 "metadata": {
  "kernelspec": {
   "display_name": "Python 3 (ipykernel)",
   "language": "python",
   "name": "python3"
  },
  "language_info": {
   "codemirror_mode": {
    "name": "ipython",
    "version": 3
   },
   "file_extension": ".py",
   "mimetype": "text/x-python",
   "name": "python",
   "nbconvert_exporter": "python",
   "pygments_lexer": "ipython3",
   "version": "3.9.7"
  }
 },
 "nbformat": 4,
 "nbformat_minor": 5
}
