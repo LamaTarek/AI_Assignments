{
 "cells": [
  {
   "cell_type": "code",
   "execution_count": 435,
   "id": "f3379eb2",
   "metadata": {},
   "outputs": [],
   "source": [
    "#import Libs\n",
    "import numpy as np\n",
    "import pandas as pd\n",
    "import matplotlib.pyplot as plt\n",
    "from sklearn.model_selection import train_test_split\n",
    "from sklearn.model_selection import KFold\n",
    "from sklearn.model_selection import LeaveOneOut"
   ]
  },
  {
   "cell_type": "code",
   "execution_count": 523,
   "id": "39df8514",
   "metadata": {},
   "outputs": [],
   "source": [
    "#get DataSet\n",
    "fruits = pd.read_csv(\"fruit_data_with_colours.csv\")"
   ]
  },
  {
   "cell_type": "code",
   "execution_count": 493,
   "id": "973abefd",
   "metadata": {},
   "outputs": [
    {
     "data": {
      "text/html": [
       "<div>\n",
       "<style scoped>\n",
       "    .dataframe tbody tr th:only-of-type {\n",
       "        vertical-align: middle;\n",
       "    }\n",
       "\n",
       "    .dataframe tbody tr th {\n",
       "        vertical-align: top;\n",
       "    }\n",
       "\n",
       "    .dataframe thead th {\n",
       "        text-align: right;\n",
       "    }\n",
       "</style>\n",
       "<table border=\"1\" class=\"dataframe\">\n",
       "  <thead>\n",
       "    <tr style=\"text-align: right;\">\n",
       "      <th></th>\n",
       "      <th>fruit_label</th>\n",
       "      <th>fruit_name</th>\n",
       "      <th>fruit_subtype</th>\n",
       "      <th>mass</th>\n",
       "      <th>width</th>\n",
       "      <th>height</th>\n",
       "      <th>color_score</th>\n",
       "    </tr>\n",
       "  </thead>\n",
       "  <tbody>\n",
       "    <tr>\n",
       "      <th>0</th>\n",
       "      <td>1</td>\n",
       "      <td>apple</td>\n",
       "      <td>granny_smith</td>\n",
       "      <td>192</td>\n",
       "      <td>8.4</td>\n",
       "      <td>7.3</td>\n",
       "      <td>0.55</td>\n",
       "    </tr>\n",
       "    <tr>\n",
       "      <th>1</th>\n",
       "      <td>1</td>\n",
       "      <td>apple</td>\n",
       "      <td>granny_smith</td>\n",
       "      <td>180</td>\n",
       "      <td>8.0</td>\n",
       "      <td>6.8</td>\n",
       "      <td>0.59</td>\n",
       "    </tr>\n",
       "    <tr>\n",
       "      <th>2</th>\n",
       "      <td>1</td>\n",
       "      <td>apple</td>\n",
       "      <td>granny_smith</td>\n",
       "      <td>176</td>\n",
       "      <td>7.4</td>\n",
       "      <td>7.2</td>\n",
       "      <td>0.60</td>\n",
       "    </tr>\n",
       "    <tr>\n",
       "      <th>3</th>\n",
       "      <td>2</td>\n",
       "      <td>mandarin</td>\n",
       "      <td>mandarin</td>\n",
       "      <td>86</td>\n",
       "      <td>6.2</td>\n",
       "      <td>4.7</td>\n",
       "      <td>0.80</td>\n",
       "    </tr>\n",
       "    <tr>\n",
       "      <th>4</th>\n",
       "      <td>2</td>\n",
       "      <td>mandarin</td>\n",
       "      <td>mandarin</td>\n",
       "      <td>84</td>\n",
       "      <td>6.0</td>\n",
       "      <td>4.6</td>\n",
       "      <td>0.79</td>\n",
       "    </tr>\n",
       "  </tbody>\n",
       "</table>\n",
       "</div>"
      ],
      "text/plain": [
       "   fruit_label fruit_name fruit_subtype  mass  width  height  color_score\n",
       "0            1      apple  granny_smith   192    8.4     7.3         0.55\n",
       "1            1      apple  granny_smith   180    8.0     6.8         0.59\n",
       "2            1      apple  granny_smith   176    7.4     7.2         0.60\n",
       "3            2   mandarin      mandarin    86    6.2     4.7         0.80\n",
       "4            2   mandarin      mandarin    84    6.0     4.6         0.79"
      ]
     },
     "execution_count": 493,
     "metadata": {},
     "output_type": "execute_result"
    }
   ],
   "source": [
    "fruits.head(5)"
   ]
  },
  {
   "cell_type": "code",
   "execution_count": 494,
   "id": "85a6c1e3",
   "metadata": {},
   "outputs": [
    {
     "name": "stdout",
     "output_type": "stream",
     "text": [
      "5.8\n"
     ]
    }
   ],
   "source": [
    "print(min(fruits['width']))\n",
    "Fruit_name =  dict(zip(fruits.fruit_label.unique(),fruits.fruit_name.unique() ))"
   ]
  },
  {
   "cell_type": "code",
   "execution_count": 495,
   "id": "2d4563bd",
   "metadata": {},
   "outputs": [
    {
     "name": "stdout",
     "output_type": "stream",
     "text": [
      "<class 'dict'>\n",
      "{1: 'apple', 2: 'mandarin', 3: 'orange', 4: 'lemon'}\n"
     ]
    }
   ],
   "source": [
    "print(type(Fruit_name))\n",
    "print(Fruit_name)"
   ]
  },
  {
   "cell_type": "code",
   "execution_count": 496,
   "id": "b8fa9a0d",
   "metadata": {},
   "outputs": [],
   "source": [
    "#get independent_variable (Features)\n",
    "x = fruits[['mass','width','height']]"
   ]
  },
  {
   "cell_type": "code",
   "execution_count": 497,
   "id": "68533782",
   "metadata": {},
   "outputs": [
    {
     "data": {
      "text/html": [
       "<div>\n",
       "<style scoped>\n",
       "    .dataframe tbody tr th:only-of-type {\n",
       "        vertical-align: middle;\n",
       "    }\n",
       "\n",
       "    .dataframe tbody tr th {\n",
       "        vertical-align: top;\n",
       "    }\n",
       "\n",
       "    .dataframe thead th {\n",
       "        text-align: right;\n",
       "    }\n",
       "</style>\n",
       "<table border=\"1\" class=\"dataframe\">\n",
       "  <thead>\n",
       "    <tr style=\"text-align: right;\">\n",
       "      <th></th>\n",
       "      <th>mass</th>\n",
       "      <th>width</th>\n",
       "      <th>height</th>\n",
       "    </tr>\n",
       "  </thead>\n",
       "  <tbody>\n",
       "    <tr>\n",
       "      <th>0</th>\n",
       "      <td>192</td>\n",
       "      <td>8.4</td>\n",
       "      <td>7.3</td>\n",
       "    </tr>\n",
       "    <tr>\n",
       "      <th>1</th>\n",
       "      <td>180</td>\n",
       "      <td>8.0</td>\n",
       "      <td>6.8</td>\n",
       "    </tr>\n",
       "    <tr>\n",
       "      <th>2</th>\n",
       "      <td>176</td>\n",
       "      <td>7.4</td>\n",
       "      <td>7.2</td>\n",
       "    </tr>\n",
       "    <tr>\n",
       "      <th>3</th>\n",
       "      <td>86</td>\n",
       "      <td>6.2</td>\n",
       "      <td>4.7</td>\n",
       "    </tr>\n",
       "    <tr>\n",
       "      <th>4</th>\n",
       "      <td>84</td>\n",
       "      <td>6.0</td>\n",
       "      <td>4.6</td>\n",
       "    </tr>\n",
       "  </tbody>\n",
       "</table>\n",
       "</div>"
      ],
      "text/plain": [
       "   mass  width  height\n",
       "0   192    8.4     7.3\n",
       "1   180    8.0     6.8\n",
       "2   176    7.4     7.2\n",
       "3    86    6.2     4.7\n",
       "4    84    6.0     4.6"
      ]
     },
     "execution_count": 497,
     "metadata": {},
     "output_type": "execute_result"
    }
   ],
   "source": [
    "x.head(5)"
   ]
  },
  {
   "cell_type": "code",
   "execution_count": 498,
   "id": "602d826e",
   "metadata": {},
   "outputs": [
    {
     "data": {
      "text/plain": [
       "0    1\n",
       "1    1\n",
       "2    1\n",
       "3    2\n",
       "4    2\n",
       "Name: fruit_label, dtype: int64"
      ]
     },
     "execution_count": 498,
     "metadata": {},
     "output_type": "execute_result"
    }
   ],
   "source": [
    "#get dependent_variable (Response)\n",
    "y = fruits['fruit_label']\n",
    "y.head()"
   ]
  },
  {
   "cell_type": "code",
   "execution_count": 499,
   "id": "9619a3ac",
   "metadata": {},
   "outputs": [],
   "source": [
    "#Split data \n",
    "x_train,x_test,y_train,y_test = train_test_split(x,y,random_state=42)"
   ]
  },
  {
   "cell_type": "code",
   "execution_count": 500,
   "id": "3abfbfa6",
   "metadata": {},
   "outputs": [],
   "source": [
    "#Classifier using KNN\n",
    "from sklearn.neighbors import KNeighborsClassifier"
   ]
  },
  {
   "cell_type": "code",
   "execution_count": 501,
   "id": "4e99f126",
   "metadata": {},
   "outputs": [],
   "source": [
    "score = {}\n",
    "for k in range(1,16,2):\n",
    "    knn = KNeighborsClassifier(n_neighbors=k)\n",
    "    #train_data\n",
    "    knn.fit(x_train,y_train)\n",
    "    #test_data\n",
    "    score[k]=knn.score(x_test,y_test)\n",
    "max_score = max(score,key=score.get)"
   ]
  },
  {
   "cell_type": "code",
   "execution_count": 502,
   "id": "cf238785",
   "metadata": {},
   "outputs": [
    {
     "data": {
      "text/plain": [
       "{1: 0.5333333333333333,\n",
       " 3: 0.6,\n",
       " 5: 0.5333333333333333,\n",
       " 7: 0.6,\n",
       " 9: 0.5333333333333333,\n",
       " 11: 0.4666666666666667,\n",
       " 13: 0.4666666666666667,\n",
       " 15: 0.4}"
      ]
     },
     "execution_count": 502,
     "metadata": {},
     "output_type": "execute_result"
    }
   ],
   "source": [
    "score"
   ]
  },
  {
   "cell_type": "code",
   "execution_count": 503,
   "id": "7759b7b2",
   "metadata": {},
   "outputs": [
    {
     "data": {
      "text/plain": [
       "3"
      ]
     },
     "execution_count": 503,
     "metadata": {},
     "output_type": "execute_result"
    }
   ],
   "source": [
    "max_score"
   ]
  },
  {
   "cell_type": "code",
   "execution_count": 504,
   "id": "e0915ccc",
   "metadata": {},
   "outputs": [],
   "source": [
    "#Get predicted response \n",
    "y_predict = knn.predict(x_test)"
   ]
  },
  {
   "cell_type": "code",
   "execution_count": 505,
   "id": "a4982bbd",
   "metadata": {},
   "outputs": [
    {
     "data": {
      "text/plain": [
       "array([1, 4, 3, 1, 1, 4, 3, 1, 1, 3, 4, 4, 1, 1, 1], dtype=int64)"
      ]
     },
     "execution_count": 505,
     "metadata": {},
     "output_type": "execute_result"
    }
   ],
   "source": [
    "y_predict"
   ]
  },
  {
   "cell_type": "code",
   "execution_count": 506,
   "id": "afdb602b",
   "metadata": {},
   "outputs": [],
   "source": [
    "sample = knn.predict([[120,5.3,8.5]])"
   ]
  },
  {
   "cell_type": "code",
   "execution_count": 507,
   "id": "fa6709ad",
   "metadata": {},
   "outputs": [
    {
     "data": {
      "text/plain": [
       "array([4], dtype=int64)"
      ]
     },
     "execution_count": 507,
     "metadata": {},
     "output_type": "execute_result"
    }
   ],
   "source": [
    "sample"
   ]
  },
  {
   "cell_type": "code",
   "execution_count": 508,
   "id": "6cabc8e0",
   "metadata": {},
   "outputs": [
    {
     "name": "stdout",
     "output_type": "stream",
     "text": [
      "lemon\n"
     ]
    }
   ],
   "source": [
    "sample_name_predicted = Fruit_name[sample[0]]\n",
    "print(sample_name_predicted)"
   ]
  },
  {
   "cell_type": "markdown",
   "id": "2c2b6ffc",
   "metadata": {},
   "source": [
    "# KFold cross validation"
   ]
  },
  {
   "cell_type": "code",
   "execution_count": 509,
   "id": "ac1cd25f",
   "metadata": {},
   "outputs": [
    {
     "data": {
      "text/plain": [
       "KFold(n_splits=3, random_state=None, shuffle=False)"
      ]
     },
     "execution_count": 509,
     "metadata": {},
     "output_type": "execute_result"
    }
   ],
   "source": [
    "kf = KFold(n_splits=3,shuffle=False)\n",
    "kf"
   ]
  },
  {
   "cell_type": "code",
   "execution_count": 510,
   "id": "60e9654d",
   "metadata": {},
   "outputs": [
    {
     "name": "stdout",
     "output_type": "stream",
     "text": [
      "39 20\n",
      "[20 21 22 23 24 25 26 27 28 29 30 31 32 33 34 35 36 37 38 39 40 41 42 43\n",
      " 44 45 46 47 48 49 50 51 52 53 54 55 56 57 58] [ 0  1  2  3  4  5  6  7  8  9 10 11 12 13 14 15 16 17 18 19]\n",
      "39 20\n",
      "[ 0  1  2  3  4  5  6  7  8  9 10 11 12 13 14 15 16 17 18 19 40 41 42 43\n",
      " 44 45 46 47 48 49 50 51 52 53 54 55 56 57 58] [20 21 22 23 24 25 26 27 28 29 30 31 32 33 34 35 36 37 38 39]\n",
      "40 19\n",
      "[ 0  1  2  3  4  5  6  7  8  9 10 11 12 13 14 15 16 17 18 19 20 21 22 23\n",
      " 24 25 26 27 28 29 30 31 32 33 34 35 36 37 38 39] [40 41 42 43 44 45 46 47 48 49 50 51 52 53 54 55 56 57 58]\n"
     ]
    }
   ],
   "source": [
    "for train_index, test_index in kf.split(x):\n",
    "    print(len(train_index),len(test_index))\n",
    "    print((train_index),(test_index))"
   ]
  },
  {
   "cell_type": "code",
   "execution_count": 511,
   "id": "b47d8757",
   "metadata": {},
   "outputs": [],
   "source": [
    "def get_score(x_train,x_test,y_train,y_test):\n",
    "    knn = KNeighborsClassifier(n_neighbors=3)\n",
    "    #train_data\n",
    "    knn.fit(x_train,y_train)\n",
    "    #test_data\n",
    "    return knn.score(x_test,y_test)"
   ]
  },
  {
   "cell_type": "code",
   "execution_count": 512,
   "id": "5f6ce5c8",
   "metadata": {},
   "outputs": [],
   "source": [
    "scores=[]\n",
    "for train_index, test_index in kf.split(x):\n",
    "    x_train,x_test,y_train,y_test=x.loc[x.index[train_index]],x.loc[x.index[test_index]]\\\n",
    "    ,y.loc[y.index[train_index]],y.loc[y.index[test_index]]\n",
    "    scores.append(get_score(x_train,x_test,y_train,y_test))"
   ]
  },
  {
   "cell_type": "code",
   "execution_count": 513,
   "id": "3c901eda",
   "metadata": {},
   "outputs": [
    {
     "data": {
      "text/plain": [
       "[0.25, 0.2, 0.0]"
      ]
     },
     "execution_count": 513,
     "metadata": {},
     "output_type": "execute_result"
    }
   ],
   "source": [
    "scores"
   ]
  },
  {
   "cell_type": "markdown",
   "id": "b1727001",
   "metadata": {},
   "source": [
    "# KFold with range"
   ]
  },
  {
   "cell_type": "code",
   "execution_count": 522,
   "id": "81e1c1bf",
   "metadata": {},
   "outputs": [
    {
     "name": "stdout",
     "output_type": "stream",
     "text": [
      "[0.7, 0.7, 0.7894736842105263]\n",
      "[0.8666666666666667, 0.4666666666666667, 0.6666666666666666, 0.8571428571428571]\n",
      "[0.6666666666666666, 0.4166666666666667, 0.5833333333333334, 0.75, 0.7272727272727273]\n",
      "[0.7, 0.7, 0.8, 0.5, 0.6, 0.5555555555555556]\n",
      "[0.6666666666666666, 0.6666666666666666, 0.6666666666666666, 0.875, 0.75, 0.75, 0.625]\n",
      "7\n"
     ]
    },
    {
     "data": {
      "text/plain": [
       "0.75"
      ]
     },
     "execution_count": 522,
     "metadata": {},
     "output_type": "execute_result"
    }
   ],
   "source": [
    "mean_scores={}\n",
    "for k in range(3,8):\n",
    "    kf = KFold(n_splits=k,shuffle=True)\n",
    "    scores=[]\n",
    "    for train_index, test_index in kf.split(x):\n",
    "        x_train,x_test,y_train,y_test=x.iloc[train_index],x.iloc[test_index]\\\n",
    "        ,y.iloc[train_index],y.iloc[test_index]\n",
    "        scores.append(get_score(x_train,x_test,y_train,y_test))\n",
    "    print(scores)\n",
    "    \n",
    "    mean_scores[k]=(np.min(scores)+np.max(scores))/2\n",
    "max_k_score = max(mean_scores,key=mean_scores.get)\n",
    "print(max_k_score)\n",
    "mean_scores[max_k_score]"
   ]
  },
  {
   "cell_type": "markdown",
   "id": "d27b496f",
   "metadata": {},
   "source": [
    "# LOOCV"
   ]
  },
  {
   "cell_type": "code",
   "execution_count": 517,
   "id": "50c50ec9",
   "metadata": {},
   "outputs": [
    {
     "data": {
      "text/plain": [
       "59"
      ]
     },
     "execution_count": 517,
     "metadata": {},
     "output_type": "execute_result"
    }
   ],
   "source": [
    "loo = LeaveOneOut()\n",
    "loo.get_n_splits(x)"
   ]
  },
  {
   "cell_type": "code",
   "execution_count": 518,
   "id": "4e0e3cb0",
   "metadata": {},
   "outputs": [
    {
     "data": {
      "text/plain": [
       "0.711864406779661"
      ]
     },
     "execution_count": 518,
     "metadata": {},
     "output_type": "execute_result"
    }
   ],
   "source": [
    "LOOCV_Score=[]\n",
    "for train_index, test_index in loo.split(x):\n",
    "    x_train, x_test = x.iloc[train_index], x.iloc[test_index]\n",
    "    y_train, y_test = y.iloc[train_index], y.iloc[test_index]\n",
    "    LOOCV_Score.append(get_score(x_train,x_test,y_train,y_test))\n",
    "np.mean(LOOCV_Score)    "
   ]
  },
  {
   "cell_type": "markdown",
   "id": "d9eda290",
   "metadata": {},
   "source": [
    "# standard normal distribution"
   ]
  },
  {
   "cell_type": "code",
   "execution_count": 483,
   "id": "2385a42c",
   "metadata": {},
   "outputs": [
    {
     "data": {
      "text/plain": [
       "mass      2.597025\n",
       "width     2.611245\n",
       "height    3.736867\n",
       "dtype: float64"
      ]
     },
     "execution_count": 483,
     "metadata": {},
     "output_type": "execute_result"
    }
   ],
   "source": [
    "np.mean(x)"
   ]
  },
  {
   "cell_type": "code",
   "execution_count": 484,
   "id": "78768d9c",
   "metadata": {},
   "outputs": [
    {
     "data": {
      "text/plain": [
       "mass      1.0\n",
       "width     1.0\n",
       "height    1.0\n",
       "dtype: float64"
      ]
     },
     "execution_count": 484,
     "metadata": {},
     "output_type": "execute_result"
    }
   ],
   "source": [
    "np.std(x)"
   ]
  },
  {
   "cell_type": "code",
   "execution_count": 485,
   "id": "aabed14f",
   "metadata": {},
   "outputs": [
    {
     "data": {
      "text/plain": [
       "mass      1.0\n",
       "width     1.0\n",
       "height    1.0\n",
       "dtype: float64"
      ]
     },
     "execution_count": 485,
     "metadata": {},
     "output_type": "execute_result"
    }
   ],
   "source": [
    "np.min(x)"
   ]
  },
  {
   "cell_type": "code",
   "execution_count": 486,
   "id": "fbdbdb58",
   "metadata": {},
   "outputs": [],
   "source": [
    "x = (x-np.mean(x))/np.std(x)"
   ]
  },
  {
   "cell_type": "code",
   "execution_count": 487,
   "id": "98ffc41b",
   "metadata": {},
   "outputs": [
    {
     "data": {
      "text/html": [
       "<div>\n",
       "<style scoped>\n",
       "    .dataframe tbody tr th:only-of-type {\n",
       "        vertical-align: middle;\n",
       "    }\n",
       "\n",
       "    .dataframe tbody tr th {\n",
       "        vertical-align: top;\n",
       "    }\n",
       "\n",
       "    .dataframe thead th {\n",
       "        text-align: right;\n",
       "    }\n",
       "</style>\n",
       "<table border=\"1\" class=\"dataframe\">\n",
       "  <thead>\n",
       "    <tr style=\"text-align: right;\">\n",
       "      <th></th>\n",
       "      <th>mass</th>\n",
       "      <th>width</th>\n",
       "      <th>height</th>\n",
       "    </tr>\n",
       "  </thead>\n",
       "  <tbody>\n",
       "    <tr>\n",
       "      <th>0</th>\n",
       "      <td>0.529442</td>\n",
       "      <td>1.598690</td>\n",
       "      <td>-0.291397</td>\n",
       "    </tr>\n",
       "    <tr>\n",
       "      <th>1</th>\n",
       "      <td>0.309462</td>\n",
       "      <td>1.104854</td>\n",
       "      <td>-0.661922</td>\n",
       "    </tr>\n",
       "    <tr>\n",
       "      <th>2</th>\n",
       "      <td>0.236136</td>\n",
       "      <td>0.364100</td>\n",
       "      <td>-0.365502</td>\n",
       "    </tr>\n",
       "    <tr>\n",
       "      <th>3</th>\n",
       "      <td>-1.413709</td>\n",
       "      <td>-1.117409</td>\n",
       "      <td>-2.218131</td>\n",
       "    </tr>\n",
       "    <tr>\n",
       "      <th>4</th>\n",
       "      <td>-1.450372</td>\n",
       "      <td>-1.364327</td>\n",
       "      <td>-2.292236</td>\n",
       "    </tr>\n",
       "    <tr>\n",
       "      <th>5</th>\n",
       "      <td>-1.523699</td>\n",
       "      <td>-1.611245</td>\n",
       "      <td>-2.514552</td>\n",
       "    </tr>\n",
       "    <tr>\n",
       "      <th>6</th>\n",
       "      <td>-1.523699</td>\n",
       "      <td>-1.487786</td>\n",
       "      <td>-2.514552</td>\n",
       "    </tr>\n",
       "    <tr>\n",
       "      <th>7</th>\n",
       "      <td>-1.597025</td>\n",
       "      <td>-1.611245</td>\n",
       "      <td>-2.736867</td>\n",
       "    </tr>\n",
       "    <tr>\n",
       "      <th>8</th>\n",
       "      <td>0.272799</td>\n",
       "      <td>-0.006278</td>\n",
       "      <td>0.079129</td>\n",
       "    </tr>\n",
       "    <tr>\n",
       "      <th>9</th>\n",
       "      <td>0.162810</td>\n",
       "      <td>0.364100</td>\n",
       "      <td>-0.513712</td>\n",
       "    </tr>\n",
       "  </tbody>\n",
       "</table>\n",
       "</div>"
      ],
      "text/plain": [
       "       mass     width    height\n",
       "0  0.529442  1.598690 -0.291397\n",
       "1  0.309462  1.104854 -0.661922\n",
       "2  0.236136  0.364100 -0.365502\n",
       "3 -1.413709 -1.117409 -2.218131\n",
       "4 -1.450372 -1.364327 -2.292236\n",
       "5 -1.523699 -1.611245 -2.514552\n",
       "6 -1.523699 -1.487786 -2.514552\n",
       "7 -1.597025 -1.611245 -2.736867\n",
       "8  0.272799 -0.006278  0.079129\n",
       "9  0.162810  0.364100 -0.513712"
      ]
     },
     "execution_count": 487,
     "metadata": {},
     "output_type": "execute_result"
    }
   ],
   "source": [
    "x.head(10)"
   ]
  },
  {
   "cell_type": "code",
   "execution_count": 488,
   "id": "4acbdcd7",
   "metadata": {},
   "outputs": [],
   "source": [
    "x=(x-np.min(x))+1"
   ]
  },
  {
   "cell_type": "code",
   "execution_count": 489,
   "id": "63f3b5ba",
   "metadata": {},
   "outputs": [
    {
     "data": {
      "text/html": [
       "<div>\n",
       "<style scoped>\n",
       "    .dataframe tbody tr th:only-of-type {\n",
       "        vertical-align: middle;\n",
       "    }\n",
       "\n",
       "    .dataframe tbody tr th {\n",
       "        vertical-align: top;\n",
       "    }\n",
       "\n",
       "    .dataframe thead th {\n",
       "        text-align: right;\n",
       "    }\n",
       "</style>\n",
       "<table border=\"1\" class=\"dataframe\">\n",
       "  <thead>\n",
       "    <tr style=\"text-align: right;\">\n",
       "      <th></th>\n",
       "      <th>mass</th>\n",
       "      <th>width</th>\n",
       "      <th>height</th>\n",
       "    </tr>\n",
       "  </thead>\n",
       "  <tbody>\n",
       "    <tr>\n",
       "      <th>0</th>\n",
       "      <td>3.126467</td>\n",
       "      <td>4.209936</td>\n",
       "      <td>3.445470</td>\n",
       "    </tr>\n",
       "    <tr>\n",
       "      <th>1</th>\n",
       "      <td>2.906488</td>\n",
       "      <td>3.716099</td>\n",
       "      <td>3.074945</td>\n",
       "    </tr>\n",
       "    <tr>\n",
       "      <th>2</th>\n",
       "      <td>2.833161</td>\n",
       "      <td>2.975345</td>\n",
       "      <td>3.371365</td>\n",
       "    </tr>\n",
       "    <tr>\n",
       "      <th>3</th>\n",
       "      <td>1.183316</td>\n",
       "      <td>1.493836</td>\n",
       "      <td>1.518736</td>\n",
       "    </tr>\n",
       "    <tr>\n",
       "      <th>4</th>\n",
       "      <td>1.146653</td>\n",
       "      <td>1.246918</td>\n",
       "      <td>1.444631</td>\n",
       "    </tr>\n",
       "    <tr>\n",
       "      <th>5</th>\n",
       "      <td>1.073326</td>\n",
       "      <td>1.000000</td>\n",
       "      <td>1.222315</td>\n",
       "    </tr>\n",
       "    <tr>\n",
       "      <th>6</th>\n",
       "      <td>1.073326</td>\n",
       "      <td>1.123459</td>\n",
       "      <td>1.222315</td>\n",
       "    </tr>\n",
       "    <tr>\n",
       "      <th>7</th>\n",
       "      <td>1.000000</td>\n",
       "      <td>1.000000</td>\n",
       "      <td>1.000000</td>\n",
       "    </tr>\n",
       "    <tr>\n",
       "      <th>8</th>\n",
       "      <td>2.869824</td>\n",
       "      <td>2.604968</td>\n",
       "      <td>3.815996</td>\n",
       "    </tr>\n",
       "    <tr>\n",
       "      <th>9</th>\n",
       "      <td>2.759835</td>\n",
       "      <td>2.975345</td>\n",
       "      <td>3.223155</td>\n",
       "    </tr>\n",
       "  </tbody>\n",
       "</table>\n",
       "</div>"
      ],
      "text/plain": [
       "       mass     width    height\n",
       "0  3.126467  4.209936  3.445470\n",
       "1  2.906488  3.716099  3.074945\n",
       "2  2.833161  2.975345  3.371365\n",
       "3  1.183316  1.493836  1.518736\n",
       "4  1.146653  1.246918  1.444631\n",
       "5  1.073326  1.000000  1.222315\n",
       "6  1.073326  1.123459  1.222315\n",
       "7  1.000000  1.000000  1.000000\n",
       "8  2.869824  2.604968  3.815996\n",
       "9  2.759835  2.975345  3.223155"
      ]
     },
     "execution_count": 489,
     "metadata": {},
     "output_type": "execute_result"
    }
   ],
   "source": [
    "x.head(10)"
   ]
  },
  {
   "cell_type": "code",
   "execution_count": 490,
   "id": "9afceb32",
   "metadata": {},
   "outputs": [
    {
     "data": {
      "text/plain": [
       "mass      1.0\n",
       "width     1.0\n",
       "height    1.0\n",
       "dtype: float64"
      ]
     },
     "execution_count": 490,
     "metadata": {},
     "output_type": "execute_result"
    }
   ],
   "source": [
    "np.min(x)"
   ]
  },
  {
   "cell_type": "code",
   "execution_count": null,
   "id": "327f0598",
   "metadata": {},
   "outputs": [],
   "source": []
  },
  {
   "cell_type": "code",
   "execution_count": null,
   "id": "696cb15b",
   "metadata": {},
   "outputs": [],
   "source": []
  },
  {
   "cell_type": "code",
   "execution_count": null,
   "id": "55cf27dc",
   "metadata": {},
   "outputs": [],
   "source": []
  },
  {
   "cell_type": "code",
   "execution_count": null,
   "id": "dac1c98e",
   "metadata": {},
   "outputs": [],
   "source": []
  }
 ],
 "metadata": {
  "kernelspec": {
   "display_name": "Python 3 (ipykernel)",
   "language": "python",
   "name": "python3"
  },
  "language_info": {
   "codemirror_mode": {
    "name": "ipython",
    "version": 3
   },
   "file_extension": ".py",
   "mimetype": "text/x-python",
   "name": "python",
   "nbconvert_exporter": "python",
   "pygments_lexer": "ipython3",
   "version": "3.9.7"
  }
 },
 "nbformat": 4,
 "nbformat_minor": 5
}
